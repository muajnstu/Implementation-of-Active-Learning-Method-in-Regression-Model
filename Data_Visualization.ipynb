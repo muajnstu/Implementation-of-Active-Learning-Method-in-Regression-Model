{
  "nbformat": 4,
  "nbformat_minor": 0,
  "metadata": {
    "colab": {
      "provenance": [],
      "authorship_tag": "ABX9TyM/5hsnLjs1Y3pFE8SbO/87",
      "include_colab_link": true
    },
    "kernelspec": {
      "name": "python3",
      "display_name": "Python 3"
    },
    "language_info": {
      "name": "python"
    }
  },
  "cells": [
    {
      "cell_type": "markdown",
      "metadata": {
        "id": "view-in-github",
        "colab_type": "text"
      },
      "source": [
        "<a href=\"https://colab.research.google.com/github/muajnstu/Implementation-of-Active-Learning-Method-in-Regression-Model/blob/main/Data_Visualization.ipynb\" target=\"_parent\"><img src=\"https://colab.research.google.com/assets/colab-badge.svg\" alt=\"Open In Colab\"/></a>"
      ]
    },
    {
      "cell_type": "markdown",
      "source": [
        "#Dataset 1"
      ],
      "metadata": {
        "id": "ygPRnVzMoTJn"
      }
    },
    {
      "cell_type": "code",
      "execution_count": 1,
      "metadata": {
        "id": "R6MtPG1bfvmX"
      },
      "outputs": [],
      "source": [
        "import pandas as pd\n",
        "\n",
        "data = {\n",
        "    'MAE': [0.049772651, 0.047924137, 0.045627467, 0.043715434, 0.043343664, 0.043608048, 0.040898514, 0.042996994, 0.039944628, 0.038419002, 0.039235839, 0.038431754, 0.039375711, 0.041633187, 0.040087336, 0.040308814, 0.040252148, 0.038366234, 0.03957431, 0.038895048],\n",
        "    'RMSE': [0.08180277, 0.077620101, 0.074729796, 0.072620858, 0.072341628, 0.07144842, 0.069402673, 0.07141115, 0.069115046, 0.068736724, 0.070296931, 0.068663248, 0.070234385, 0.072853398, 0.071359096, 0.070832245, 0.071422547, 0.069404753, 0.070298461, 0.069320949],\n",
        "    'R²': [0.857072287, 0.871314732, 0.880719892, 0.887357268, 0.888221832, 0.890965062, 0.897119557, 0.891078784, 0.89797053, 0.899084452, 0.894451234, 0.899300084, 0.894638974, 0.886634724, 0.89123752, 0.892837598, 0.891044015, 0.89711339, 0.894446641, 0.897361705]\n",
        "}\n",
        "\n",
        "df = pd.DataFrame(data)\n",
        "df['Iteration'] = range(1, 21)"
      ]
    },
    {
      "cell_type": "code",
      "source": [
        "df_long1 = df.melt(id_vars=['Iteration'], value_vars=['MAE', 'RMSE', 'R²'],\n",
        "                  var_name='Metric', value_name='Value')"
      ],
      "metadata": {
        "id": "B_o3MlRZf0eS"
      },
      "execution_count": 2,
      "outputs": []
    },
    {
      "cell_type": "code",
      "source": [
        "import altair as alt\n",
        "\n",
        "chart = alt.Chart(df_long1).mark_line(point=True).encode(\n",
        "    x=alt.X('Iteration:O', title='Iterations', axis=alt.Axis(titleFontSize=18, titleFontWeight='normal', labelFontSize=18)),\n",
        "    y=alt.Y('Value:Q', title='Metric Value', axis=alt.Axis(titleFontSize=18, titleFontWeight='normal', labelFontSize=18)),\n",
        "    color=alt.Color('Metric:N', title=None),  # remove \"Metrics\" title\n",
        "    tooltip=['Iteration', 'Metric', 'Value']\n",
        ").configure(\n",
        "    # Font size configurations\n",
        "    title=alt.TitleConfig(fontSize=20),\n",
        "    axis=alt.AxisConfig(\n",
        "        titleFontSize=20,\n",
        "        labelFontSize=20\n",
        "    ),\n",
        "    legend=alt.LegendConfig(\n",
        "        titleFontSize=16,\n",
        "        labelFontSize=16,\n",
        "        # Position the legend inside the chart\n",
        "        orient='none',\n",
        "        legendX=533,  # Adjust the x-position as needed\n",
        "        legendY=160    # Adjust the y-position as needed\n",
        "    )\n",
        ").properties(\n",
        "    # Chart size\n",
        "    width=600,\n",
        "    height=400\n",
        ")\n",
        "\n",
        "chart"
      ],
      "metadata": {
        "id": "0gftc__-dHUB",
        "outputId": "985fd50e-7702-4aae-ae10-57ffaeb560a3",
        "colab": {
          "base_uri": "https://localhost:8080/",
          "height": 490
        }
      },
      "execution_count": 20,
      "outputs": [
        {
          "output_type": "execute_result",
          "data": {
            "text/html": [
              "\n",
              "<style>\n",
              "  #altair-viz-ef8780bbcb754917863b070e9cec9cf4.vega-embed {\n",
              "    width: 100%;\n",
              "    display: flex;\n",
              "  }\n",
              "\n",
              "  #altair-viz-ef8780bbcb754917863b070e9cec9cf4.vega-embed details,\n",
              "  #altair-viz-ef8780bbcb754917863b070e9cec9cf4.vega-embed details summary {\n",
              "    position: relative;\n",
              "  }\n",
              "</style>\n",
              "<div id=\"altair-viz-ef8780bbcb754917863b070e9cec9cf4\"></div>\n",
              "<script type=\"text/javascript\">\n",
              "  var VEGA_DEBUG = (typeof VEGA_DEBUG == \"undefined\") ? {} : VEGA_DEBUG;\n",
              "  (function(spec, embedOpt){\n",
              "    let outputDiv = document.currentScript.previousElementSibling;\n",
              "    if (outputDiv.id !== \"altair-viz-ef8780bbcb754917863b070e9cec9cf4\") {\n",
              "      outputDiv = document.getElementById(\"altair-viz-ef8780bbcb754917863b070e9cec9cf4\");\n",
              "    }\n",
              "\n",
              "    const paths = {\n",
              "      \"vega\": \"https://cdn.jsdelivr.net/npm/vega@5?noext\",\n",
              "      \"vega-lib\": \"https://cdn.jsdelivr.net/npm/vega-lib?noext\",\n",
              "      \"vega-lite\": \"https://cdn.jsdelivr.net/npm/vega-lite@5.20.1?noext\",\n",
              "      \"vega-embed\": \"https://cdn.jsdelivr.net/npm/vega-embed@6?noext\",\n",
              "    };\n",
              "\n",
              "    function maybeLoadScript(lib, version) {\n",
              "      var key = `${lib.replace(\"-\", \"\")}_version`;\n",
              "      return (VEGA_DEBUG[key] == version) ?\n",
              "        Promise.resolve(paths[lib]) :\n",
              "        new Promise(function(resolve, reject) {\n",
              "          var s = document.createElement('script');\n",
              "          document.getElementsByTagName(\"head\")[0].appendChild(s);\n",
              "          s.async = true;\n",
              "          s.onload = () => {\n",
              "            VEGA_DEBUG[key] = version;\n",
              "            return resolve(paths[lib]);\n",
              "          };\n",
              "          s.onerror = () => reject(`Error loading script: ${paths[lib]}`);\n",
              "          s.src = paths[lib];\n",
              "        });\n",
              "    }\n",
              "\n",
              "    function showError(err) {\n",
              "      outputDiv.innerHTML = `<div class=\"error\" style=\"color:red;\">${err}</div>`;\n",
              "      throw err;\n",
              "    }\n",
              "\n",
              "    function displayChart(vegaEmbed) {\n",
              "      vegaEmbed(outputDiv, spec, embedOpt)\n",
              "        .catch(err => showError(`Javascript Error: ${err.message}<br>This usually means there's a typo in your chart specification. See the javascript console for the full traceback.`));\n",
              "    }\n",
              "\n",
              "    if(typeof define === \"function\" && define.amd) {\n",
              "      requirejs.config({paths});\n",
              "      let deps = [\"vega-embed\"];\n",
              "      require(deps, displayChart, err => showError(`Error loading script: ${err.message}`));\n",
              "    } else {\n",
              "      maybeLoadScript(\"vega\", \"5\")\n",
              "        .then(() => maybeLoadScript(\"vega-lite\", \"5.20.1\"))\n",
              "        .then(() => maybeLoadScript(\"vega-embed\", \"6\"))\n",
              "        .catch(showError)\n",
              "        .then(() => displayChart(vegaEmbed));\n",
              "    }\n",
              "  })({\"config\": {\"view\": {\"continuousWidth\": 300, \"continuousHeight\": 300}, \"axis\": {\"labelFontSize\": 20, \"titleFontSize\": 20}, \"legend\": {\"labelFontSize\": 16, \"legendX\": 533, \"legendY\": 160, \"orient\": \"none\", \"titleFontSize\": 16}, \"title\": {\"fontSize\": 20}}, \"data\": {\"name\": \"data-87246834add98631e96986412588ca68\"}, \"mark\": {\"type\": \"line\", \"point\": true}, \"encoding\": {\"color\": {\"field\": \"Metric\", \"title\": null, \"type\": \"nominal\"}, \"tooltip\": [{\"field\": \"Iteration\", \"type\": \"quantitative\"}, {\"field\": \"Metric\", \"type\": \"nominal\"}, {\"field\": \"Value\", \"type\": \"quantitative\"}], \"x\": {\"axis\": {\"labelFontSize\": 18, \"titleFontSize\": 18, \"titleFontWeight\": \"normal\"}, \"field\": \"Iteration\", \"title\": \"Iterations\", \"type\": \"ordinal\"}, \"y\": {\"axis\": {\"labelFontSize\": 18, \"titleFontSize\": 18, \"titleFontWeight\": \"normal\"}, \"field\": \"Value\", \"title\": \"Metric Value\", \"type\": \"quantitative\"}}, \"height\": 400, \"width\": 600, \"$schema\": \"https://vega.github.io/schema/vega-lite/v5.20.1.json\", \"datasets\": {\"data-87246834add98631e96986412588ca68\": [{\"Iteration\": 1, \"Metric\": \"MAE\", \"Value\": 0.049772651}, {\"Iteration\": 2, \"Metric\": \"MAE\", \"Value\": 0.047924137}, {\"Iteration\": 3, \"Metric\": \"MAE\", \"Value\": 0.045627467}, {\"Iteration\": 4, \"Metric\": \"MAE\", \"Value\": 0.043715434}, {\"Iteration\": 5, \"Metric\": \"MAE\", \"Value\": 0.043343664}, {\"Iteration\": 6, \"Metric\": \"MAE\", \"Value\": 0.043608048}, {\"Iteration\": 7, \"Metric\": \"MAE\", \"Value\": 0.040898514}, {\"Iteration\": 8, \"Metric\": \"MAE\", \"Value\": 0.042996994}, {\"Iteration\": 9, \"Metric\": \"MAE\", \"Value\": 0.039944628}, {\"Iteration\": 10, \"Metric\": \"MAE\", \"Value\": 0.038419002}, {\"Iteration\": 11, \"Metric\": \"MAE\", \"Value\": 0.039235839}, {\"Iteration\": 12, \"Metric\": \"MAE\", \"Value\": 0.038431754}, {\"Iteration\": 13, \"Metric\": \"MAE\", \"Value\": 0.039375711}, {\"Iteration\": 14, \"Metric\": \"MAE\", \"Value\": 0.041633187}, {\"Iteration\": 15, \"Metric\": \"MAE\", \"Value\": 0.040087336}, {\"Iteration\": 16, \"Metric\": \"MAE\", \"Value\": 0.040308814}, {\"Iteration\": 17, \"Metric\": \"MAE\", \"Value\": 0.040252148}, {\"Iteration\": 18, \"Metric\": \"MAE\", \"Value\": 0.038366234}, {\"Iteration\": 19, \"Metric\": \"MAE\", \"Value\": 0.03957431}, {\"Iteration\": 20, \"Metric\": \"MAE\", \"Value\": 0.038895048}, {\"Iteration\": 1, \"Metric\": \"RMSE\", \"Value\": 0.08180277}, {\"Iteration\": 2, \"Metric\": \"RMSE\", \"Value\": 0.077620101}, {\"Iteration\": 3, \"Metric\": \"RMSE\", \"Value\": 0.074729796}, {\"Iteration\": 4, \"Metric\": \"RMSE\", \"Value\": 0.072620858}, {\"Iteration\": 5, \"Metric\": \"RMSE\", \"Value\": 0.072341628}, {\"Iteration\": 6, \"Metric\": \"RMSE\", \"Value\": 0.07144842}, {\"Iteration\": 7, \"Metric\": \"RMSE\", \"Value\": 0.069402673}, {\"Iteration\": 8, \"Metric\": \"RMSE\", \"Value\": 0.07141115}, {\"Iteration\": 9, \"Metric\": \"RMSE\", \"Value\": 0.069115046}, {\"Iteration\": 10, \"Metric\": \"RMSE\", \"Value\": 0.068736724}, {\"Iteration\": 11, \"Metric\": \"RMSE\", \"Value\": 0.070296931}, {\"Iteration\": 12, \"Metric\": \"RMSE\", \"Value\": 0.068663248}, {\"Iteration\": 13, \"Metric\": \"RMSE\", \"Value\": 0.070234385}, {\"Iteration\": 14, \"Metric\": \"RMSE\", \"Value\": 0.072853398}, {\"Iteration\": 15, \"Metric\": \"RMSE\", \"Value\": 0.071359096}, {\"Iteration\": 16, \"Metric\": \"RMSE\", \"Value\": 0.070832245}, {\"Iteration\": 17, \"Metric\": \"RMSE\", \"Value\": 0.071422547}, {\"Iteration\": 18, \"Metric\": \"RMSE\", \"Value\": 0.069404753}, {\"Iteration\": 19, \"Metric\": \"RMSE\", \"Value\": 0.070298461}, {\"Iteration\": 20, \"Metric\": \"RMSE\", \"Value\": 0.069320949}, {\"Iteration\": 1, \"Metric\": \"R\\u00b2\", \"Value\": 0.857072287}, {\"Iteration\": 2, \"Metric\": \"R\\u00b2\", \"Value\": 0.871314732}, {\"Iteration\": 3, \"Metric\": \"R\\u00b2\", \"Value\": 0.880719892}, {\"Iteration\": 4, \"Metric\": \"R\\u00b2\", \"Value\": 0.887357268}, {\"Iteration\": 5, \"Metric\": \"R\\u00b2\", \"Value\": 0.888221832}, {\"Iteration\": 6, \"Metric\": \"R\\u00b2\", \"Value\": 0.890965062}, {\"Iteration\": 7, \"Metric\": \"R\\u00b2\", \"Value\": 0.897119557}, {\"Iteration\": 8, \"Metric\": \"R\\u00b2\", \"Value\": 0.891078784}, {\"Iteration\": 9, \"Metric\": \"R\\u00b2\", \"Value\": 0.89797053}, {\"Iteration\": 10, \"Metric\": \"R\\u00b2\", \"Value\": 0.899084452}, {\"Iteration\": 11, \"Metric\": \"R\\u00b2\", \"Value\": 0.894451234}, {\"Iteration\": 12, \"Metric\": \"R\\u00b2\", \"Value\": 0.899300084}, {\"Iteration\": 13, \"Metric\": \"R\\u00b2\", \"Value\": 0.894638974}, {\"Iteration\": 14, \"Metric\": \"R\\u00b2\", \"Value\": 0.886634724}, {\"Iteration\": 15, \"Metric\": \"R\\u00b2\", \"Value\": 0.89123752}, {\"Iteration\": 16, \"Metric\": \"R\\u00b2\", \"Value\": 0.892837598}, {\"Iteration\": 17, \"Metric\": \"R\\u00b2\", \"Value\": 0.891044015}, {\"Iteration\": 18, \"Metric\": \"R\\u00b2\", \"Value\": 0.89711339}, {\"Iteration\": 19, \"Metric\": \"R\\u00b2\", \"Value\": 0.894446641}, {\"Iteration\": 20, \"Metric\": \"R\\u00b2\", \"Value\": 0.897361705}]}}, {\"mode\": \"vega-lite\"});\n",
              "</script>"
            ],
            "text/plain": [
              "alt.Chart(...)"
            ]
          },
          "metadata": {},
          "execution_count": 20
        }
      ]
    },
    {
      "cell_type": "markdown",
      "source": [
        "#Dataset 2"
      ],
      "metadata": {
        "id": "mu-X3hBPoaUX"
      }
    },
    {
      "cell_type": "code",
      "source": [
        "data = {\n",
        "    'MAE': [0.069151081, 0.057959988, 0.057869879, 0.050994535, 0.050433623, 0.04347265, 0.041759535, 0.035626455, 0.033703716, 0.031102556, 0.030679611, 0.079508707, 0.029476777, 0.027948152, 0.027596864, 0.027884596, 0.029051933, 0.030190872, 0.029723584, 0.029130448],\n",
        "    'RMSE': [0.118425791, 0.102041462, 0.105188467, 0.0971182, 0.094828078, 0.088652367, 0.086465448, 0.08306289, 0.081705942, 0.079367205, 0.079993163, 0.079508707, 0.080710374, 0.081365835, 0.082038803, 0.082635411, 0.081261459, 0.083108728, 0.081778846, 0.08134921],\n",
        "    'R²': [0.823425003, 0.868903841, 0.86069302, 0.881248837, 0.886783294, 0.901049659, 0.905871354, 0.913133826, 0.915948802, 0.920691673, 0.919435751, 0.920408626, 0.917984612, 0.916647084, 0.915262576, 0.91402563, 0.916860798, 0.913037925, 0.915798742, 0.916681143]\n",
        "}\n",
        "df = pd.DataFrame(data)\n",
        "df['Iteration'] = range(1, 21)"
      ],
      "metadata": {
        "id": "VZ94_494lQVI"
      },
      "execution_count": 21,
      "outputs": []
    },
    {
      "cell_type": "code",
      "source": [
        "df_long2 = df.melt(id_vars=['Iteration'], value_vars=['MAE', 'RMSE', 'R²'],\n",
        "                  var_name='Metric', value_name='Value')"
      ],
      "metadata": {
        "id": "usAjg2YYlUSp"
      },
      "execution_count": 22,
      "outputs": []
    },
    {
      "cell_type": "code",
      "source": [
        "import altair as alt\n",
        "\n",
        "chart = alt.Chart(df_long2).mark_line(point=True).encode(\n",
        "    x=alt.X('Iteration:O', title='Iterations', axis=alt.Axis(titleFontSize=18, titleFontWeight='normal', labelFontSize=18)),\n",
        "    y=alt.Y('Value:Q', title='Metric Value', axis=alt.Axis(titleFontSize=18, titleFontWeight='normal', labelFontSize=18)),\n",
        "    color=alt.Color('Metric:N', title=None),  # remove \"Metrics\" title\n",
        "    tooltip=['Iteration', 'Metric', 'Value']\n",
        ").configure(\n",
        "    # Font size configurations\n",
        "    title=alt.TitleConfig(fontSize=20),\n",
        "    axis=alt.AxisConfig(\n",
        "        titleFontSize=20,\n",
        "        labelFontSize=20\n",
        "    ),\n",
        "    legend=alt.LegendConfig(\n",
        "        titleFontSize=16,\n",
        "        labelFontSize=16,\n",
        "        # Position the legend inside the chart\n",
        "        orient='none',\n",
        "        legendX=533,  # Adjust the x-position as needed\n",
        "        legendY=165    # Adjust the y-position as needed\n",
        "    )\n",
        ").properties(\n",
        "    # Chart size\n",
        "    width=600,\n",
        "    height=400\n",
        ")\n",
        "\n",
        "chart"
      ],
      "metadata": {
        "id": "wfMmSiMiek_u",
        "outputId": "1c6c3379-6f77-43e7-9593-7b86b72de7b1",
        "colab": {
          "base_uri": "https://localhost:8080/",
          "height": 490
        }
      },
      "execution_count": 24,
      "outputs": [
        {
          "output_type": "execute_result",
          "data": {
            "text/html": [
              "\n",
              "<style>\n",
              "  #altair-viz-5ed2fdff8c554c0e8866b1a0889f2881.vega-embed {\n",
              "    width: 100%;\n",
              "    display: flex;\n",
              "  }\n",
              "\n",
              "  #altair-viz-5ed2fdff8c554c0e8866b1a0889f2881.vega-embed details,\n",
              "  #altair-viz-5ed2fdff8c554c0e8866b1a0889f2881.vega-embed details summary {\n",
              "    position: relative;\n",
              "  }\n",
              "</style>\n",
              "<div id=\"altair-viz-5ed2fdff8c554c0e8866b1a0889f2881\"></div>\n",
              "<script type=\"text/javascript\">\n",
              "  var VEGA_DEBUG = (typeof VEGA_DEBUG == \"undefined\") ? {} : VEGA_DEBUG;\n",
              "  (function(spec, embedOpt){\n",
              "    let outputDiv = document.currentScript.previousElementSibling;\n",
              "    if (outputDiv.id !== \"altair-viz-5ed2fdff8c554c0e8866b1a0889f2881\") {\n",
              "      outputDiv = document.getElementById(\"altair-viz-5ed2fdff8c554c0e8866b1a0889f2881\");\n",
              "    }\n",
              "\n",
              "    const paths = {\n",
              "      \"vega\": \"https://cdn.jsdelivr.net/npm/vega@5?noext\",\n",
              "      \"vega-lib\": \"https://cdn.jsdelivr.net/npm/vega-lib?noext\",\n",
              "      \"vega-lite\": \"https://cdn.jsdelivr.net/npm/vega-lite@5.20.1?noext\",\n",
              "      \"vega-embed\": \"https://cdn.jsdelivr.net/npm/vega-embed@6?noext\",\n",
              "    };\n",
              "\n",
              "    function maybeLoadScript(lib, version) {\n",
              "      var key = `${lib.replace(\"-\", \"\")}_version`;\n",
              "      return (VEGA_DEBUG[key] == version) ?\n",
              "        Promise.resolve(paths[lib]) :\n",
              "        new Promise(function(resolve, reject) {\n",
              "          var s = document.createElement('script');\n",
              "          document.getElementsByTagName(\"head\")[0].appendChild(s);\n",
              "          s.async = true;\n",
              "          s.onload = () => {\n",
              "            VEGA_DEBUG[key] = version;\n",
              "            return resolve(paths[lib]);\n",
              "          };\n",
              "          s.onerror = () => reject(`Error loading script: ${paths[lib]}`);\n",
              "          s.src = paths[lib];\n",
              "        });\n",
              "    }\n",
              "\n",
              "    function showError(err) {\n",
              "      outputDiv.innerHTML = `<div class=\"error\" style=\"color:red;\">${err}</div>`;\n",
              "      throw err;\n",
              "    }\n",
              "\n",
              "    function displayChart(vegaEmbed) {\n",
              "      vegaEmbed(outputDiv, spec, embedOpt)\n",
              "        .catch(err => showError(`Javascript Error: ${err.message}<br>This usually means there's a typo in your chart specification. See the javascript console for the full traceback.`));\n",
              "    }\n",
              "\n",
              "    if(typeof define === \"function\" && define.amd) {\n",
              "      requirejs.config({paths});\n",
              "      let deps = [\"vega-embed\"];\n",
              "      require(deps, displayChart, err => showError(`Error loading script: ${err.message}`));\n",
              "    } else {\n",
              "      maybeLoadScript(\"vega\", \"5\")\n",
              "        .then(() => maybeLoadScript(\"vega-lite\", \"5.20.1\"))\n",
              "        .then(() => maybeLoadScript(\"vega-embed\", \"6\"))\n",
              "        .catch(showError)\n",
              "        .then(() => displayChart(vegaEmbed));\n",
              "    }\n",
              "  })({\"config\": {\"view\": {\"continuousWidth\": 300, \"continuousHeight\": 300}, \"axis\": {\"labelFontSize\": 20, \"titleFontSize\": 20}, \"legend\": {\"labelFontSize\": 16, \"legendX\": 533, \"legendY\": 165, \"orient\": \"none\", \"titleFontSize\": 16}, \"title\": {\"fontSize\": 20}}, \"data\": {\"name\": \"data-b9bff48d61434bff24b9e748248e78e9\"}, \"mark\": {\"type\": \"line\", \"point\": true}, \"encoding\": {\"color\": {\"field\": \"Metric\", \"title\": null, \"type\": \"nominal\"}, \"tooltip\": [{\"field\": \"Iteration\", \"type\": \"quantitative\"}, {\"field\": \"Metric\", \"type\": \"nominal\"}, {\"field\": \"Value\", \"type\": \"quantitative\"}], \"x\": {\"axis\": {\"labelFontSize\": 18, \"titleFontSize\": 18, \"titleFontWeight\": \"normal\"}, \"field\": \"Iteration\", \"title\": \"Iterations\", \"type\": \"ordinal\"}, \"y\": {\"axis\": {\"labelFontSize\": 18, \"titleFontSize\": 18, \"titleFontWeight\": \"normal\"}, \"field\": \"Value\", \"title\": \"Metric Value\", \"type\": \"quantitative\"}}, \"height\": 400, \"width\": 600, \"$schema\": \"https://vega.github.io/schema/vega-lite/v5.20.1.json\", \"datasets\": {\"data-b9bff48d61434bff24b9e748248e78e9\": [{\"Iteration\": 1, \"Metric\": \"MAE\", \"Value\": 0.069151081}, {\"Iteration\": 2, \"Metric\": \"MAE\", \"Value\": 0.057959988}, {\"Iteration\": 3, \"Metric\": \"MAE\", \"Value\": 0.057869879}, {\"Iteration\": 4, \"Metric\": \"MAE\", \"Value\": 0.050994535}, {\"Iteration\": 5, \"Metric\": \"MAE\", \"Value\": 0.050433623}, {\"Iteration\": 6, \"Metric\": \"MAE\", \"Value\": 0.04347265}, {\"Iteration\": 7, \"Metric\": \"MAE\", \"Value\": 0.041759535}, {\"Iteration\": 8, \"Metric\": \"MAE\", \"Value\": 0.035626455}, {\"Iteration\": 9, \"Metric\": \"MAE\", \"Value\": 0.033703716}, {\"Iteration\": 10, \"Metric\": \"MAE\", \"Value\": 0.031102556}, {\"Iteration\": 11, \"Metric\": \"MAE\", \"Value\": 0.030679611}, {\"Iteration\": 12, \"Metric\": \"MAE\", \"Value\": 0.079508707}, {\"Iteration\": 13, \"Metric\": \"MAE\", \"Value\": 0.029476777}, {\"Iteration\": 14, \"Metric\": \"MAE\", \"Value\": 0.027948152}, {\"Iteration\": 15, \"Metric\": \"MAE\", \"Value\": 0.027596864}, {\"Iteration\": 16, \"Metric\": \"MAE\", \"Value\": 0.027884596}, {\"Iteration\": 17, \"Metric\": \"MAE\", \"Value\": 0.029051933}, {\"Iteration\": 18, \"Metric\": \"MAE\", \"Value\": 0.030190872}, {\"Iteration\": 19, \"Metric\": \"MAE\", \"Value\": 0.029723584}, {\"Iteration\": 20, \"Metric\": \"MAE\", \"Value\": 0.029130448}, {\"Iteration\": 1, \"Metric\": \"RMSE\", \"Value\": 0.118425791}, {\"Iteration\": 2, \"Metric\": \"RMSE\", \"Value\": 0.102041462}, {\"Iteration\": 3, \"Metric\": \"RMSE\", \"Value\": 0.105188467}, {\"Iteration\": 4, \"Metric\": \"RMSE\", \"Value\": 0.0971182}, {\"Iteration\": 5, \"Metric\": \"RMSE\", \"Value\": 0.094828078}, {\"Iteration\": 6, \"Metric\": \"RMSE\", \"Value\": 0.088652367}, {\"Iteration\": 7, \"Metric\": \"RMSE\", \"Value\": 0.086465448}, {\"Iteration\": 8, \"Metric\": \"RMSE\", \"Value\": 0.08306289}, {\"Iteration\": 9, \"Metric\": \"RMSE\", \"Value\": 0.081705942}, {\"Iteration\": 10, \"Metric\": \"RMSE\", \"Value\": 0.079367205}, {\"Iteration\": 11, \"Metric\": \"RMSE\", \"Value\": 0.079993163}, {\"Iteration\": 12, \"Metric\": \"RMSE\", \"Value\": 0.079508707}, {\"Iteration\": 13, \"Metric\": \"RMSE\", \"Value\": 0.080710374}, {\"Iteration\": 14, \"Metric\": \"RMSE\", \"Value\": 0.081365835}, {\"Iteration\": 15, \"Metric\": \"RMSE\", \"Value\": 0.082038803}, {\"Iteration\": 16, \"Metric\": \"RMSE\", \"Value\": 0.082635411}, {\"Iteration\": 17, \"Metric\": \"RMSE\", \"Value\": 0.081261459}, {\"Iteration\": 18, \"Metric\": \"RMSE\", \"Value\": 0.083108728}, {\"Iteration\": 19, \"Metric\": \"RMSE\", \"Value\": 0.081778846}, {\"Iteration\": 20, \"Metric\": \"RMSE\", \"Value\": 0.08134921}, {\"Iteration\": 1, \"Metric\": \"R\\u00b2\", \"Value\": 0.823425003}, {\"Iteration\": 2, \"Metric\": \"R\\u00b2\", \"Value\": 0.868903841}, {\"Iteration\": 3, \"Metric\": \"R\\u00b2\", \"Value\": 0.86069302}, {\"Iteration\": 4, \"Metric\": \"R\\u00b2\", \"Value\": 0.881248837}, {\"Iteration\": 5, \"Metric\": \"R\\u00b2\", \"Value\": 0.886783294}, {\"Iteration\": 6, \"Metric\": \"R\\u00b2\", \"Value\": 0.901049659}, {\"Iteration\": 7, \"Metric\": \"R\\u00b2\", \"Value\": 0.905871354}, {\"Iteration\": 8, \"Metric\": \"R\\u00b2\", \"Value\": 0.913133826}, {\"Iteration\": 9, \"Metric\": \"R\\u00b2\", \"Value\": 0.915948802}, {\"Iteration\": 10, \"Metric\": \"R\\u00b2\", \"Value\": 0.920691673}, {\"Iteration\": 11, \"Metric\": \"R\\u00b2\", \"Value\": 0.919435751}, {\"Iteration\": 12, \"Metric\": \"R\\u00b2\", \"Value\": 0.920408626}, {\"Iteration\": 13, \"Metric\": \"R\\u00b2\", \"Value\": 0.917984612}, {\"Iteration\": 14, \"Metric\": \"R\\u00b2\", \"Value\": 0.916647084}, {\"Iteration\": 15, \"Metric\": \"R\\u00b2\", \"Value\": 0.915262576}, {\"Iteration\": 16, \"Metric\": \"R\\u00b2\", \"Value\": 0.91402563}, {\"Iteration\": 17, \"Metric\": \"R\\u00b2\", \"Value\": 0.916860798}, {\"Iteration\": 18, \"Metric\": \"R\\u00b2\", \"Value\": 0.913037925}, {\"Iteration\": 19, \"Metric\": \"R\\u00b2\", \"Value\": 0.915798742}, {\"Iteration\": 20, \"Metric\": \"R\\u00b2\", \"Value\": 0.916681143}]}}, {\"mode\": \"vega-lite\"});\n",
              "</script>"
            ],
            "text/plain": [
              "alt.Chart(...)"
            ]
          },
          "metadata": {},
          "execution_count": 24
        }
      ]
    },
    {
      "cell_type": "markdown",
      "source": [
        "#Dataset 3"
      ],
      "metadata": {
        "id": "PeD4j0znoipW"
      }
    },
    {
      "cell_type": "code",
      "source": [
        "data = {\n",
        "    'MAE': [\n",
        "        0.039783158, 0.037866266, 0.037997266, 0.038133268, 0.038267251,\n",
        "        0.038248626, 0.038086071, 0.038129114, 0.038134718, 0.038094098,\n",
        "        0.038235141, 0.038084155, 0.038263554, 0.03800038, 0.038152449,\n",
        "        0.038197069, 0.038053344, 0.037986582, 0.037937306, 0.037963596\n",
        "    ],\n",
        "    'RMSE': [\n",
        "        0.050711345, 0.047434387, 0.047711704, 0.047892839, 0.047950865,\n",
        "        0.047962887, 0.04779638, 0.047773706, 0.047683313, 0.047635603,\n",
        "        0.047829824, 0.047609076, 0.047853226, 0.047474354, 0.047522976,\n",
        "        0.047591633, 0.047472916, 0.047365119, 0.047267186, 0.047244874\n",
        "    ],\n",
        "    'R²': [\n",
        "        0.946008291, 0.952760706, 0.952206738, 0.951843159, 0.951726398,\n",
        "        0.951702189, 0.952036946, 0.952082441, 0.952263601, 0.952359079,\n",
        "        0.951969802, 0.952412124, 0.95192279, 0.952681067, 0.952584091,\n",
        "        0.952446988, 0.952683934, 0.952898571, 0.953093146, 0.953137418\n",
        "    ]\n",
        "}\n",
        "df = pd.DataFrame(data)\n",
        "df['Iteration'] = range(1, 21)\n"
      ],
      "metadata": {
        "id": "_Q9KNuclnjAS"
      },
      "execution_count": 25,
      "outputs": []
    },
    {
      "cell_type": "code",
      "source": [
        "df_long3 = df.melt(id_vars=['Iteration'], value_vars=['MAE', 'RMSE', 'R²'],\n",
        "                  var_name='Metric', value_name='Value')"
      ],
      "metadata": {
        "id": "5x0EQY4Enyp_"
      },
      "execution_count": 26,
      "outputs": []
    },
    {
      "cell_type": "code",
      "source": [
        "import altair as alt\n",
        "\n",
        "chart = alt.Chart(df_long3).mark_line(point=True).encode(\n",
        "    x=alt.X('Iteration:O', title='Iterations', axis=alt.Axis(titleFontSize=18, titleFontWeight='normal', labelFontSize=18)),\n",
        "    y=alt.Y('Value:Q', title='Metric Value', axis=alt.Axis(titleFontSize=18, titleFontWeight='normal', labelFontSize=18)),\n",
        "    color=alt.Color('Metric:N', title=None),  # remove \"Metrics\" title\n",
        "    tooltip=['Iteration', 'Metric', 'Value']\n",
        ").configure(\n",
        "    # Font size configurations\n",
        "    title=alt.TitleConfig(fontSize=20),\n",
        "    axis=alt.AxisConfig(\n",
        "        titleFontSize=20,\n",
        "        labelFontSize=20\n",
        "    ),\n",
        "    legend=alt.LegendConfig(\n",
        "        titleFontSize=16,\n",
        "        labelFontSize=16,\n",
        "        # Position the legend inside the chart\n",
        "        orient='none',\n",
        "        legendX=533,  # Adjust the x-position as needed\n",
        "        legendY=165   # Adjust the y-position as needed\n",
        "    )\n",
        ").properties(\n",
        "    # Chart size\n",
        "    width=600,\n",
        "    height=400\n",
        ")\n",
        "\n",
        "chart"
      ],
      "metadata": {
        "id": "rtqCiPRrfBld",
        "outputId": "0b888d0b-d350-4ca3-d619-522f843b24e6",
        "colab": {
          "base_uri": "https://localhost:8080/",
          "height": 490
        }
      },
      "execution_count": 28,
      "outputs": [
        {
          "output_type": "execute_result",
          "data": {
            "text/html": [
              "\n",
              "<style>\n",
              "  #altair-viz-3049cd1bd0084fa9a3764cd5542b2d9f.vega-embed {\n",
              "    width: 100%;\n",
              "    display: flex;\n",
              "  }\n",
              "\n",
              "  #altair-viz-3049cd1bd0084fa9a3764cd5542b2d9f.vega-embed details,\n",
              "  #altair-viz-3049cd1bd0084fa9a3764cd5542b2d9f.vega-embed details summary {\n",
              "    position: relative;\n",
              "  }\n",
              "</style>\n",
              "<div id=\"altair-viz-3049cd1bd0084fa9a3764cd5542b2d9f\"></div>\n",
              "<script type=\"text/javascript\">\n",
              "  var VEGA_DEBUG = (typeof VEGA_DEBUG == \"undefined\") ? {} : VEGA_DEBUG;\n",
              "  (function(spec, embedOpt){\n",
              "    let outputDiv = document.currentScript.previousElementSibling;\n",
              "    if (outputDiv.id !== \"altair-viz-3049cd1bd0084fa9a3764cd5542b2d9f\") {\n",
              "      outputDiv = document.getElementById(\"altair-viz-3049cd1bd0084fa9a3764cd5542b2d9f\");\n",
              "    }\n",
              "\n",
              "    const paths = {\n",
              "      \"vega\": \"https://cdn.jsdelivr.net/npm/vega@5?noext\",\n",
              "      \"vega-lib\": \"https://cdn.jsdelivr.net/npm/vega-lib?noext\",\n",
              "      \"vega-lite\": \"https://cdn.jsdelivr.net/npm/vega-lite@5.20.1?noext\",\n",
              "      \"vega-embed\": \"https://cdn.jsdelivr.net/npm/vega-embed@6?noext\",\n",
              "    };\n",
              "\n",
              "    function maybeLoadScript(lib, version) {\n",
              "      var key = `${lib.replace(\"-\", \"\")}_version`;\n",
              "      return (VEGA_DEBUG[key] == version) ?\n",
              "        Promise.resolve(paths[lib]) :\n",
              "        new Promise(function(resolve, reject) {\n",
              "          var s = document.createElement('script');\n",
              "          document.getElementsByTagName(\"head\")[0].appendChild(s);\n",
              "          s.async = true;\n",
              "          s.onload = () => {\n",
              "            VEGA_DEBUG[key] = version;\n",
              "            return resolve(paths[lib]);\n",
              "          };\n",
              "          s.onerror = () => reject(`Error loading script: ${paths[lib]}`);\n",
              "          s.src = paths[lib];\n",
              "        });\n",
              "    }\n",
              "\n",
              "    function showError(err) {\n",
              "      outputDiv.innerHTML = `<div class=\"error\" style=\"color:red;\">${err}</div>`;\n",
              "      throw err;\n",
              "    }\n",
              "\n",
              "    function displayChart(vegaEmbed) {\n",
              "      vegaEmbed(outputDiv, spec, embedOpt)\n",
              "        .catch(err => showError(`Javascript Error: ${err.message}<br>This usually means there's a typo in your chart specification. See the javascript console for the full traceback.`));\n",
              "    }\n",
              "\n",
              "    if(typeof define === \"function\" && define.amd) {\n",
              "      requirejs.config({paths});\n",
              "      let deps = [\"vega-embed\"];\n",
              "      require(deps, displayChart, err => showError(`Error loading script: ${err.message}`));\n",
              "    } else {\n",
              "      maybeLoadScript(\"vega\", \"5\")\n",
              "        .then(() => maybeLoadScript(\"vega-lite\", \"5.20.1\"))\n",
              "        .then(() => maybeLoadScript(\"vega-embed\", \"6\"))\n",
              "        .catch(showError)\n",
              "        .then(() => displayChart(vegaEmbed));\n",
              "    }\n",
              "  })({\"config\": {\"view\": {\"continuousWidth\": 300, \"continuousHeight\": 300}, \"axis\": {\"labelFontSize\": 20, \"titleFontSize\": 20}, \"legend\": {\"labelFontSize\": 16, \"legendX\": 533, \"legendY\": 165, \"orient\": \"none\", \"titleFontSize\": 16}, \"title\": {\"fontSize\": 20}}, \"data\": {\"name\": \"data-d499e8d6aeb7e7dd472d02983f4261cb\"}, \"mark\": {\"type\": \"line\", \"point\": true}, \"encoding\": {\"color\": {\"field\": \"Metric\", \"title\": null, \"type\": \"nominal\"}, \"tooltip\": [{\"field\": \"Iteration\", \"type\": \"quantitative\"}, {\"field\": \"Metric\", \"type\": \"nominal\"}, {\"field\": \"Value\", \"type\": \"quantitative\"}], \"x\": {\"axis\": {\"labelFontSize\": 18, \"titleFontSize\": 18, \"titleFontWeight\": \"normal\"}, \"field\": \"Iteration\", \"title\": \"Iterations\", \"type\": \"ordinal\"}, \"y\": {\"axis\": {\"labelFontSize\": 18, \"titleFontSize\": 18, \"titleFontWeight\": \"normal\"}, \"field\": \"Value\", \"title\": \"Metric Value\", \"type\": \"quantitative\"}}, \"height\": 400, \"width\": 600, \"$schema\": \"https://vega.github.io/schema/vega-lite/v5.20.1.json\", \"datasets\": {\"data-d499e8d6aeb7e7dd472d02983f4261cb\": [{\"Iteration\": 1, \"Metric\": \"MAE\", \"Value\": 0.039783158}, {\"Iteration\": 2, \"Metric\": \"MAE\", \"Value\": 0.037866266}, {\"Iteration\": 3, \"Metric\": \"MAE\", \"Value\": 0.037997266}, {\"Iteration\": 4, \"Metric\": \"MAE\", \"Value\": 0.038133268}, {\"Iteration\": 5, \"Metric\": \"MAE\", \"Value\": 0.038267251}, {\"Iteration\": 6, \"Metric\": \"MAE\", \"Value\": 0.038248626}, {\"Iteration\": 7, \"Metric\": \"MAE\", \"Value\": 0.038086071}, {\"Iteration\": 8, \"Metric\": \"MAE\", \"Value\": 0.038129114}, {\"Iteration\": 9, \"Metric\": \"MAE\", \"Value\": 0.038134718}, {\"Iteration\": 10, \"Metric\": \"MAE\", \"Value\": 0.038094098}, {\"Iteration\": 11, \"Metric\": \"MAE\", \"Value\": 0.038235141}, {\"Iteration\": 12, \"Metric\": \"MAE\", \"Value\": 0.038084155}, {\"Iteration\": 13, \"Metric\": \"MAE\", \"Value\": 0.038263554}, {\"Iteration\": 14, \"Metric\": \"MAE\", \"Value\": 0.03800038}, {\"Iteration\": 15, \"Metric\": \"MAE\", \"Value\": 0.038152449}, {\"Iteration\": 16, \"Metric\": \"MAE\", \"Value\": 0.038197069}, {\"Iteration\": 17, \"Metric\": \"MAE\", \"Value\": 0.038053344}, {\"Iteration\": 18, \"Metric\": \"MAE\", \"Value\": 0.037986582}, {\"Iteration\": 19, \"Metric\": \"MAE\", \"Value\": 0.037937306}, {\"Iteration\": 20, \"Metric\": \"MAE\", \"Value\": 0.037963596}, {\"Iteration\": 1, \"Metric\": \"RMSE\", \"Value\": 0.050711345}, {\"Iteration\": 2, \"Metric\": \"RMSE\", \"Value\": 0.047434387}, {\"Iteration\": 3, \"Metric\": \"RMSE\", \"Value\": 0.047711704}, {\"Iteration\": 4, \"Metric\": \"RMSE\", \"Value\": 0.047892839}, {\"Iteration\": 5, \"Metric\": \"RMSE\", \"Value\": 0.047950865}, {\"Iteration\": 6, \"Metric\": \"RMSE\", \"Value\": 0.047962887}, {\"Iteration\": 7, \"Metric\": \"RMSE\", \"Value\": 0.04779638}, {\"Iteration\": 8, \"Metric\": \"RMSE\", \"Value\": 0.047773706}, {\"Iteration\": 9, \"Metric\": \"RMSE\", \"Value\": 0.047683313}, {\"Iteration\": 10, \"Metric\": \"RMSE\", \"Value\": 0.047635603}, {\"Iteration\": 11, \"Metric\": \"RMSE\", \"Value\": 0.047829824}, {\"Iteration\": 12, \"Metric\": \"RMSE\", \"Value\": 0.047609076}, {\"Iteration\": 13, \"Metric\": \"RMSE\", \"Value\": 0.047853226}, {\"Iteration\": 14, \"Metric\": \"RMSE\", \"Value\": 0.047474354}, {\"Iteration\": 15, \"Metric\": \"RMSE\", \"Value\": 0.047522976}, {\"Iteration\": 16, \"Metric\": \"RMSE\", \"Value\": 0.047591633}, {\"Iteration\": 17, \"Metric\": \"RMSE\", \"Value\": 0.047472916}, {\"Iteration\": 18, \"Metric\": \"RMSE\", \"Value\": 0.047365119}, {\"Iteration\": 19, \"Metric\": \"RMSE\", \"Value\": 0.047267186}, {\"Iteration\": 20, \"Metric\": \"RMSE\", \"Value\": 0.047244874}, {\"Iteration\": 1, \"Metric\": \"R\\u00b2\", \"Value\": 0.946008291}, {\"Iteration\": 2, \"Metric\": \"R\\u00b2\", \"Value\": 0.952760706}, {\"Iteration\": 3, \"Metric\": \"R\\u00b2\", \"Value\": 0.952206738}, {\"Iteration\": 4, \"Metric\": \"R\\u00b2\", \"Value\": 0.951843159}, {\"Iteration\": 5, \"Metric\": \"R\\u00b2\", \"Value\": 0.951726398}, {\"Iteration\": 6, \"Metric\": \"R\\u00b2\", \"Value\": 0.951702189}, {\"Iteration\": 7, \"Metric\": \"R\\u00b2\", \"Value\": 0.952036946}, {\"Iteration\": 8, \"Metric\": \"R\\u00b2\", \"Value\": 0.952082441}, {\"Iteration\": 9, \"Metric\": \"R\\u00b2\", \"Value\": 0.952263601}, {\"Iteration\": 10, \"Metric\": \"R\\u00b2\", \"Value\": 0.952359079}, {\"Iteration\": 11, \"Metric\": \"R\\u00b2\", \"Value\": 0.951969802}, {\"Iteration\": 12, \"Metric\": \"R\\u00b2\", \"Value\": 0.952412124}, {\"Iteration\": 13, \"Metric\": \"R\\u00b2\", \"Value\": 0.95192279}, {\"Iteration\": 14, \"Metric\": \"R\\u00b2\", \"Value\": 0.952681067}, {\"Iteration\": 15, \"Metric\": \"R\\u00b2\", \"Value\": 0.952584091}, {\"Iteration\": 16, \"Metric\": \"R\\u00b2\", \"Value\": 0.952446988}, {\"Iteration\": 17, \"Metric\": \"R\\u00b2\", \"Value\": 0.952683934}, {\"Iteration\": 18, \"Metric\": \"R\\u00b2\", \"Value\": 0.952898571}, {\"Iteration\": 19, \"Metric\": \"R\\u00b2\", \"Value\": 0.953093146}, {\"Iteration\": 20, \"Metric\": \"R\\u00b2\", \"Value\": 0.953137418}]}}, {\"mode\": \"vega-lite\"});\n",
              "</script>"
            ],
            "text/plain": [
              "alt.Chart(...)"
            ]
          },
          "metadata": {},
          "execution_count": 28
        }
      ]
    }
  ]
}